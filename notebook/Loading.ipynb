{
 "cells": [
  {
   "cell_type": "code",
   "execution_count": 1,
   "metadata": {},
   "outputs": [
    {
     "name": "stderr",
     "output_type": "stream",
     "text": [
      "Using TensorFlow backend.\n"
     ]
    }
   ],
   "source": [
    "import logging, gensim, bz2\n",
    "logging.basicConfig(format='%(asctime)s : %(levelname)s : %(message)s', level=logging.INFO)"
   ]
  },
  {
   "cell_type": "markdown",
   "metadata": {},
   "source": [
    "## LSI"
   ]
  },
  {
   "cell_type": "code",
   "execution_count": 7,
   "metadata": {
    "scrolled": true
   },
   "outputs": [
    {
     "name": "stderr",
     "output_type": "stream",
     "text": [
      "2017-09-01 15:55:52,302 : INFO : loading LsiModel object from ../data/lsi.model\n",
      "2017-09-01 15:55:52,376 : INFO : loading id2word recursively from ../data/lsi.model.id2word.* with mmap=None\n",
      "2017-09-01 15:55:52,377 : INFO : setting ignored attribute projection to None\n",
      "2017-09-01 15:55:52,379 : INFO : setting ignored attribute dispatcher to None\n",
      "2017-09-01 15:55:52,380 : INFO : loaded ../data/lsi.model\n",
      "2017-09-01 15:55:52,381 : INFO : loading LsiModel object from ../data/lsi.model.projection\n",
      "2017-09-01 15:55:52,383 : INFO : loading u from ../data/lsi.model.projection.u.npy with mmap=None\n",
      "2017-09-01 15:55:54,293 : INFO : loaded ../data/lsi.model.projection\n"
     ]
    }
   ],
   "source": [
    "# extract 400 LSI topics; use the default one-pass algorithm\n",
    "lsi = gensim.models.lsimodel.LsiModel.load('../data/lsi.model')"
   ]
  },
  {
   "cell_type": "code",
   "execution_count": 8,
   "metadata": {
    "scrolled": false
   },
   "outputs": [
    {
     "name": "stderr",
     "output_type": "stream",
     "text": [
      "2017-09-01 15:56:02,000 : INFO : topic #0(168.203): 0.150*\"album\" + 0.101*\"league\" + 0.100*\"song\" + 0.090*\"band\" + 0.087*\"population\" + 0.085*\"station\" + 0.079*\"district\" + 0.079*\"club\" + 0.078*\"football\" + 0.078*\"town\"\n",
      "2017-09-01 15:56:02,005 : INFO : topic #1(126.925): 0.315*\"album\" + -0.250*\"population\" + -0.199*\"census\" + 0.191*\"song\" + -0.190*\"median\" + 0.177*\"chart\" + -0.169*\"households\" + -0.156*\"income\" + 0.156*\"band\" + -0.143*\"township\"\n",
      "2017-09-01 15:56:02,010 : INFO : topic #2(119.319): -0.293*\"album\" + 0.268*\"league\" + 0.178*\"football\" + -0.172*\"song\" + -0.169*\"population\" + -0.168*\"chart\" + 0.161*\"cup\" + -0.157*\"median\" + 0.154*\"club\" + -0.151*\"census\"\n",
      "2017-09-01 15:56:02,014 : INFO : topic #3(110.679): -0.346*\"league\" + -0.216*\"football\" + -0.206*\"cup\" + -0.195*\"club\" + -0.157*\"goals\" + -0.131*\"median\" + 0.130*\"station\" + -0.126*\"album\" + -0.123*\"apps\" + -0.112*\"households\"\n",
      "2017-09-01 15:56:02,017 : INFO : topic #4(96.260): -0.610*\"station\" + -0.276*\"railway\" + 0.201*\"party\" + 0.163*\"election\" + -0.119*\"fm\" + -0.112*\"village\" + -0.093*\"radio\" + -0.093*\"stations\" + -0.086*\"road\" + -0.085*\"river\"\n"
     ]
    },
    {
     "data": {
      "text/plain": [
       "[(0,\n",
       "  u'0.150*\"album\" + 0.101*\"league\" + 0.100*\"song\" + 0.090*\"band\" + 0.087*\"population\" + 0.085*\"station\" + 0.079*\"district\" + 0.079*\"club\" + 0.078*\"football\" + 0.078*\"town\"'),\n",
       " (1,\n",
       "  u'0.315*\"album\" + -0.250*\"population\" + -0.199*\"census\" + 0.191*\"song\" + -0.190*\"median\" + 0.177*\"chart\" + -0.169*\"households\" + -0.156*\"income\" + 0.156*\"band\" + -0.143*\"township\"'),\n",
       " (2,\n",
       "  u'-0.293*\"album\" + 0.268*\"league\" + 0.178*\"football\" + -0.172*\"song\" + -0.169*\"population\" + -0.168*\"chart\" + 0.161*\"cup\" + -0.157*\"median\" + 0.154*\"club\" + -0.151*\"census\"'),\n",
       " (3,\n",
       "  u'-0.346*\"league\" + -0.216*\"football\" + -0.206*\"cup\" + -0.195*\"club\" + -0.157*\"goals\" + -0.131*\"median\" + 0.130*\"station\" + -0.126*\"album\" + -0.123*\"apps\" + -0.112*\"households\"'),\n",
       " (4,\n",
       "  u'-0.610*\"station\" + -0.276*\"railway\" + 0.201*\"party\" + 0.163*\"election\" + -0.119*\"fm\" + -0.112*\"village\" + -0.093*\"radio\" + -0.093*\"stations\" + -0.086*\"road\" + -0.085*\"river\"')]"
      ]
     },
     "execution_count": 8,
     "metadata": {},
     "output_type": "execute_result"
    }
   ],
   "source": [
    "# print the most contributing words (both positively and negatively) for each of the first ten topics\n",
    "lsi.print_topics(5)"
   ]
  },
  {
   "cell_type": "markdown",
   "metadata": {},
   "source": [
    "## LDA"
   ]
  },
  {
   "cell_type": "code",
   "execution_count": 9,
   "metadata": {},
   "outputs": [
    {
     "name": "stderr",
     "output_type": "stream",
     "text": [
      "2017-09-01 15:58:12,661 : INFO : loading LdaModel object from ../data/lda.model\n",
      "2017-09-01 15:58:12,664 : INFO : loading expElogbeta from ../data/lda.model.expElogbeta.npy with mmap=None\n",
      "2017-09-01 15:58:12,707 : INFO : setting ignored attribute id2word to None\n",
      "2017-09-01 15:58:12,708 : INFO : setting ignored attribute state to None\n",
      "2017-09-01 15:58:12,709 : INFO : setting ignored attribute dispatcher to None\n",
      "2017-09-01 15:58:12,710 : INFO : loaded ../data/lda.model\n",
      "2017-09-01 15:58:12,712 : INFO : loading LdaModel object from ../data/lda.model.state\n",
      "2017-09-01 15:58:12,853 : INFO : loaded ../data/lda.model.state\n"
     ]
    }
   ],
   "source": [
    "lda = gensim.models.ldamodel.LdaModel.load('../data/lda.model')"
   ]
  },
  {
   "cell_type": "code",
   "execution_count": 11,
   "metadata": {},
   "outputs": [
    {
     "name": "stderr",
     "output_type": "stream",
     "text": [
      "2017-09-01 15:58:22,098 : INFO : topic #1 (0.010): 0.009*\"speedway\" + 0.005*\"nascar\" + 0.005*\"prelate\" + 0.004*\"tcu\" + 0.004*\"chamberlin\" + 0.003*\"mandals\" + 0.003*\"daytona\" + 0.003*\"giacomo\" + 0.003*\"dunedin\" + 0.003*\"cooperstown\"\n",
      "2017-09-01 15:58:22,102 : INFO : topic #70 (0.010): 0.032*\"italian\" + 0.024*\"di\" + 0.018*\"italy\" + 0.011*\"align\" + 0.010*\"giovanni\" + 0.009*\"discal\" + 0.009*\"francesco\" + 0.009*\"della\" + 0.007*\"il\" + 0.007*\"giuseppe\"\n",
      "2017-09-01 15:58:22,104 : INFO : topic #49 (0.010): 0.011*\"book\" + 0.010*\"poetry\" + 0.008*\"literature\" + 0.008*\"books\" + 0.008*\"literary\" + 0.006*\"poems\" + 0.006*\"works\" + 0.006*\"writer\" + 0.006*\"poet\" + 0.006*\"press\"\n",
      "2017-09-01 15:58:22,107 : INFO : topic #60 (0.010): 0.020*\"aggies\" + 0.018*\"poly\" + 0.016*\"dioecesis\" + 0.013*\"rogaland\" + 0.012*\"bac\" + 0.011*\"bahamas\" + 0.008*\"makerere\" + 0.008*\"csl\" + 0.008*\"marne\" + 0.007*\"tumor\"\n",
      "2017-09-01 15:58:22,111 : INFO : topic #51 (0.010): 0.007*\"chemical\" + 0.007*\"mine\" + 0.006*\"mining\" + 0.006*\"compound\" + 0.006*\"chemistry\" + 0.006*\"acid\" + 0.005*\"organic\" + 0.005*\"carbon\" + 0.004*\"mineral\" + 0.004*\"coal\"\n"
     ]
    },
    {
     "data": {
      "text/plain": [
       "[(1,\n",
       "  u'0.009*\"speedway\" + 0.005*\"nascar\" + 0.005*\"prelate\" + 0.004*\"tcu\" + 0.004*\"chamberlin\" + 0.003*\"mandals\" + 0.003*\"daytona\" + 0.003*\"giacomo\" + 0.003*\"dunedin\" + 0.003*\"cooperstown\"'),\n",
       " (70,\n",
       "  u'0.032*\"italian\" + 0.024*\"di\" + 0.018*\"italy\" + 0.011*\"align\" + 0.010*\"giovanni\" + 0.009*\"discal\" + 0.009*\"francesco\" + 0.009*\"della\" + 0.007*\"il\" + 0.007*\"giuseppe\"'),\n",
       " (49,\n",
       "  u'0.011*\"book\" + 0.010*\"poetry\" + 0.008*\"literature\" + 0.008*\"books\" + 0.008*\"literary\" + 0.006*\"poems\" + 0.006*\"works\" + 0.006*\"writer\" + 0.006*\"poet\" + 0.006*\"press\"'),\n",
       " (60,\n",
       "  u'0.020*\"aggies\" + 0.018*\"poly\" + 0.016*\"dioecesis\" + 0.013*\"rogaland\" + 0.012*\"bac\" + 0.011*\"bahamas\" + 0.008*\"makerere\" + 0.008*\"csl\" + 0.008*\"marne\" + 0.007*\"tumor\"'),\n",
       " (51,\n",
       "  u'0.007*\"chemical\" + 0.007*\"mine\" + 0.006*\"mining\" + 0.006*\"compound\" + 0.006*\"chemistry\" + 0.006*\"acid\" + 0.005*\"organic\" + 0.005*\"carbon\" + 0.004*\"mineral\" + 0.004*\"coal\"')]"
      ]
     },
     "execution_count": 11,
     "metadata": {},
     "output_type": "execute_result"
    }
   ],
   "source": [
    "lda.print_topics(5)"
   ]
  },
  {
   "cell_type": "markdown",
   "metadata": {},
   "source": [
    "## Word2Vec"
   ]
  },
  {
   "cell_type": "code",
   "execution_count": 12,
   "metadata": {},
   "outputs": [
    {
     "name": "stderr",
     "output_type": "stream",
     "text": [
      "2017-09-01 16:06:01,903 : INFO : loading Word2Vec object from ../data/enwiki-20170820-pages-articles-word2vec.model\n",
      "2017-09-01 16:07:25,396 : INFO : loading wv recursively from ../data/enwiki-20170820-pages-articles-word2vec.model.wv.* with mmap=None\n",
      "2017-09-01 16:07:25,397 : INFO : loading syn0 from ../data/enwiki-20170820-pages-articles-word2vec.model.wv.syn0.npy with mmap=None\n",
      "2017-09-01 16:08:16,420 : INFO : setting ignored attribute syn0norm to None\n",
      "2017-09-01 16:08:16,422 : INFO : loading syn1neg from ../data/enwiki-20170820-pages-articles-word2vec.model.syn1neg.npy with mmap=None\n"
     ]
    },
    {
     "ename": "MemoryError",
     "evalue": "",
     "output_type": "error",
     "traceback": [
      "\u001b[0;31m---------------------------------------------------------------------------\u001b[0m",
      "\u001b[0;31mMemoryError\u001b[0m                               Traceback (most recent call last)",
      "\u001b[0;32m<ipython-input-12-18a6de30dac7>\u001b[0m in \u001b[0;36m<module>\u001b[0;34m()\u001b[0m\n\u001b[0;32m----> 1\u001b[0;31m \u001b[0mmodel\u001b[0m \u001b[0;34m=\u001b[0m \u001b[0mgensim\u001b[0m\u001b[0;34m.\u001b[0m\u001b[0mmodels\u001b[0m\u001b[0;34m.\u001b[0m\u001b[0mWord2Vec\u001b[0m\u001b[0;34m.\u001b[0m\u001b[0mload\u001b[0m\u001b[0;34m(\u001b[0m\u001b[0;34m\"../data/enwiki-20170820-pages-articles-word2vec.model\"\u001b[0m\u001b[0;34m)\u001b[0m\u001b[0;34m\u001b[0m\u001b[0m\n\u001b[0m",
      "\u001b[0;32m/usr/local/lib64/python2.7/site-packages/gensim/models/word2vec.pyc\u001b[0m in \u001b[0;36mload\u001b[0;34m(cls, *args, **kwargs)\u001b[0m\n\u001b[1;32m   1410\u001b[0m     \u001b[0;34m@\u001b[0m\u001b[0mclassmethod\u001b[0m\u001b[0;34m\u001b[0m\u001b[0m\n\u001b[1;32m   1411\u001b[0m     \u001b[0;32mdef\u001b[0m \u001b[0mload\u001b[0m\u001b[0;34m(\u001b[0m\u001b[0mcls\u001b[0m\u001b[0;34m,\u001b[0m \u001b[0;34m*\u001b[0m\u001b[0margs\u001b[0m\u001b[0;34m,\u001b[0m \u001b[0;34m**\u001b[0m\u001b[0mkwargs\u001b[0m\u001b[0;34m)\u001b[0m\u001b[0;34m:\u001b[0m\u001b[0;34m\u001b[0m\u001b[0m\n\u001b[0;32m-> 1412\u001b[0;31m         \u001b[0mmodel\u001b[0m \u001b[0;34m=\u001b[0m \u001b[0msuper\u001b[0m\u001b[0;34m(\u001b[0m\u001b[0mWord2Vec\u001b[0m\u001b[0;34m,\u001b[0m \u001b[0mcls\u001b[0m\u001b[0;34m)\u001b[0m\u001b[0;34m.\u001b[0m\u001b[0mload\u001b[0m\u001b[0;34m(\u001b[0m\u001b[0;34m*\u001b[0m\u001b[0margs\u001b[0m\u001b[0;34m,\u001b[0m \u001b[0;34m**\u001b[0m\u001b[0mkwargs\u001b[0m\u001b[0;34m)\u001b[0m\u001b[0;34m\u001b[0m\u001b[0m\n\u001b[0m\u001b[1;32m   1413\u001b[0m         \u001b[0;31m# update older models\u001b[0m\u001b[0;34m\u001b[0m\u001b[0;34m\u001b[0m\u001b[0m\n\u001b[1;32m   1414\u001b[0m         \u001b[0;32mif\u001b[0m \u001b[0mhasattr\u001b[0m\u001b[0;34m(\u001b[0m\u001b[0mmodel\u001b[0m\u001b[0;34m,\u001b[0m \u001b[0;34m'table'\u001b[0m\u001b[0;34m)\u001b[0m\u001b[0;34m:\u001b[0m\u001b[0;34m\u001b[0m\u001b[0m\n",
      "\u001b[0;32m/usr/local/lib64/python2.7/site-packages/gensim/utils.pyc\u001b[0m in \u001b[0;36mload\u001b[0;34m(cls, fname, mmap)\u001b[0m\n\u001b[1;32m    275\u001b[0m \u001b[0;34m\u001b[0m\u001b[0m\n\u001b[1;32m    276\u001b[0m         \u001b[0mobj\u001b[0m \u001b[0;34m=\u001b[0m \u001b[0munpickle\u001b[0m\u001b[0;34m(\u001b[0m\u001b[0mfname\u001b[0m\u001b[0;34m)\u001b[0m\u001b[0;34m\u001b[0m\u001b[0m\n\u001b[0;32m--> 277\u001b[0;31m         \u001b[0mobj\u001b[0m\u001b[0;34m.\u001b[0m\u001b[0m_load_specials\u001b[0m\u001b[0;34m(\u001b[0m\u001b[0mfname\u001b[0m\u001b[0;34m,\u001b[0m \u001b[0mmmap\u001b[0m\u001b[0;34m,\u001b[0m \u001b[0mcompress\u001b[0m\u001b[0;34m,\u001b[0m \u001b[0msubname\u001b[0m\u001b[0;34m)\u001b[0m\u001b[0;34m\u001b[0m\u001b[0m\n\u001b[0m\u001b[1;32m    278\u001b[0m         \u001b[0mlogger\u001b[0m\u001b[0;34m.\u001b[0m\u001b[0minfo\u001b[0m\u001b[0;34m(\u001b[0m\u001b[0;34m\"loaded %s\"\u001b[0m\u001b[0;34m,\u001b[0m \u001b[0mfname\u001b[0m\u001b[0;34m)\u001b[0m\u001b[0;34m\u001b[0m\u001b[0m\n\u001b[1;32m    279\u001b[0m         \u001b[0;32mreturn\u001b[0m \u001b[0mobj\u001b[0m\u001b[0;34m\u001b[0m\u001b[0m\n",
      "\u001b[0;32m/usr/local/lib64/python2.7/site-packages/gensim/models/word2vec.pyc\u001b[0m in \u001b[0;36m_load_specials\u001b[0;34m(self, *args, **kwargs)\u001b[0m\n\u001b[1;32m   1434\u001b[0m \u001b[0;34m\u001b[0m\u001b[0m\n\u001b[1;32m   1435\u001b[0m     \u001b[0;32mdef\u001b[0m \u001b[0m_load_specials\u001b[0m\u001b[0;34m(\u001b[0m\u001b[0mself\u001b[0m\u001b[0;34m,\u001b[0m \u001b[0;34m*\u001b[0m\u001b[0margs\u001b[0m\u001b[0;34m,\u001b[0m \u001b[0;34m**\u001b[0m\u001b[0mkwargs\u001b[0m\u001b[0;34m)\u001b[0m\u001b[0;34m:\u001b[0m\u001b[0;34m\u001b[0m\u001b[0m\n\u001b[0;32m-> 1436\u001b[0;31m         \u001b[0msuper\u001b[0m\u001b[0;34m(\u001b[0m\u001b[0mWord2Vec\u001b[0m\u001b[0;34m,\u001b[0m \u001b[0mself\u001b[0m\u001b[0;34m)\u001b[0m\u001b[0;34m.\u001b[0m\u001b[0m_load_specials\u001b[0m\u001b[0;34m(\u001b[0m\u001b[0;34m*\u001b[0m\u001b[0margs\u001b[0m\u001b[0;34m,\u001b[0m \u001b[0;34m**\u001b[0m\u001b[0mkwargs\u001b[0m\u001b[0;34m)\u001b[0m\u001b[0;34m\u001b[0m\u001b[0m\n\u001b[0m\u001b[1;32m   1437\u001b[0m         \u001b[0;31m# loading from a pre-KeyedVectors word2vec model\u001b[0m\u001b[0;34m\u001b[0m\u001b[0;34m\u001b[0m\u001b[0m\n\u001b[1;32m   1438\u001b[0m         \u001b[0;32mif\u001b[0m \u001b[0;32mnot\u001b[0m \u001b[0mhasattr\u001b[0m\u001b[0;34m(\u001b[0m\u001b[0mself\u001b[0m\u001b[0;34m,\u001b[0m \u001b[0;34m'wv'\u001b[0m\u001b[0;34m)\u001b[0m\u001b[0;34m:\u001b[0m\u001b[0;34m\u001b[0m\u001b[0m\n",
      "\u001b[0;32m/usr/local/lib64/python2.7/site-packages/gensim/utils.pyc\u001b[0m in \u001b[0;36m_load_specials\u001b[0;34m(self, fname, mmap, compress, subname)\u001b[0m\n\u001b[1;32m    305\u001b[0m                 \u001b[0mval\u001b[0m \u001b[0;34m=\u001b[0m \u001b[0mnp\u001b[0m\u001b[0;34m.\u001b[0m\u001b[0mload\u001b[0m\u001b[0;34m(\u001b[0m\u001b[0msubname\u001b[0m\u001b[0;34m(\u001b[0m\u001b[0mfname\u001b[0m\u001b[0;34m,\u001b[0m \u001b[0mattrib\u001b[0m\u001b[0;34m)\u001b[0m\u001b[0;34m)\u001b[0m\u001b[0;34m[\u001b[0m\u001b[0;34m'val'\u001b[0m\u001b[0;34m]\u001b[0m\u001b[0;34m\u001b[0m\u001b[0m\n\u001b[1;32m    306\u001b[0m             \u001b[0;32melse\u001b[0m\u001b[0;34m:\u001b[0m\u001b[0;34m\u001b[0m\u001b[0m\n\u001b[0;32m--> 307\u001b[0;31m                 \u001b[0mval\u001b[0m \u001b[0;34m=\u001b[0m \u001b[0mnp\u001b[0m\u001b[0;34m.\u001b[0m\u001b[0mload\u001b[0m\u001b[0;34m(\u001b[0m\u001b[0msubname\u001b[0m\u001b[0;34m(\u001b[0m\u001b[0mfname\u001b[0m\u001b[0;34m,\u001b[0m \u001b[0mattrib\u001b[0m\u001b[0;34m)\u001b[0m\u001b[0;34m,\u001b[0m \u001b[0mmmap_mode\u001b[0m\u001b[0;34m=\u001b[0m\u001b[0mmmap\u001b[0m\u001b[0;34m)\u001b[0m\u001b[0;34m\u001b[0m\u001b[0m\n\u001b[0m\u001b[1;32m    308\u001b[0m \u001b[0;34m\u001b[0m\u001b[0m\n\u001b[1;32m    309\u001b[0m             \u001b[0msetattr\u001b[0m\u001b[0;34m(\u001b[0m\u001b[0mself\u001b[0m\u001b[0;34m,\u001b[0m \u001b[0mattrib\u001b[0m\u001b[0;34m,\u001b[0m \u001b[0mval\u001b[0m\u001b[0;34m)\u001b[0m\u001b[0;34m\u001b[0m\u001b[0m\n",
      "\u001b[0;32m/usr/lib64/python2.7/dist-packages/numpy/lib/npyio.pyc\u001b[0m in \u001b[0;36mload\u001b[0;34m(file, mmap_mode, allow_pickle, fix_imports, encoding)\u001b[0m\n\u001b[1;32m    417\u001b[0m             \u001b[0;32melse\u001b[0m\u001b[0;34m:\u001b[0m\u001b[0;34m\u001b[0m\u001b[0m\n\u001b[1;32m    418\u001b[0m                 return format.read_array(fid, allow_pickle=allow_pickle,\n\u001b[0;32m--> 419\u001b[0;31m                                          pickle_kwargs=pickle_kwargs)\n\u001b[0m\u001b[1;32m    420\u001b[0m         \u001b[0;32melse\u001b[0m\u001b[0;34m:\u001b[0m\u001b[0;34m\u001b[0m\u001b[0m\n\u001b[1;32m    421\u001b[0m             \u001b[0;31m# Try a pickle\u001b[0m\u001b[0;34m\u001b[0m\u001b[0;34m\u001b[0m\u001b[0m\n",
      "\u001b[0;32m/usr/lib64/python2.7/dist-packages/numpy/lib/format.pyc\u001b[0m in \u001b[0;36mread_array\u001b[0;34m(fp, allow_pickle, pickle_kwargs)\u001b[0m\n\u001b[1;32m    649\u001b[0m         \u001b[0;32mif\u001b[0m \u001b[0misfileobj\u001b[0m\u001b[0;34m(\u001b[0m\u001b[0mfp\u001b[0m\u001b[0;34m)\u001b[0m\u001b[0;34m:\u001b[0m\u001b[0;34m\u001b[0m\u001b[0m\n\u001b[1;32m    650\u001b[0m             \u001b[0;31m# We can use the fast fromfile() function.\u001b[0m\u001b[0;34m\u001b[0m\u001b[0;34m\u001b[0m\u001b[0m\n\u001b[0;32m--> 651\u001b[0;31m             \u001b[0marray\u001b[0m \u001b[0;34m=\u001b[0m \u001b[0mnumpy\u001b[0m\u001b[0;34m.\u001b[0m\u001b[0mfromfile\u001b[0m\u001b[0;34m(\u001b[0m\u001b[0mfp\u001b[0m\u001b[0;34m,\u001b[0m \u001b[0mdtype\u001b[0m\u001b[0;34m=\u001b[0m\u001b[0mdtype\u001b[0m\u001b[0;34m,\u001b[0m \u001b[0mcount\u001b[0m\u001b[0;34m=\u001b[0m\u001b[0mcount\u001b[0m\u001b[0;34m)\u001b[0m\u001b[0;34m\u001b[0m\u001b[0m\n\u001b[0m\u001b[1;32m    652\u001b[0m         \u001b[0;32melse\u001b[0m\u001b[0;34m:\u001b[0m\u001b[0;34m\u001b[0m\u001b[0m\n\u001b[1;32m    653\u001b[0m             \u001b[0;31m# This is not a real file. We have to read it the\u001b[0m\u001b[0;34m\u001b[0m\u001b[0;34m\u001b[0m\u001b[0m\n",
      "\u001b[0;31mMemoryError\u001b[0m: "
     ]
    }
   ],
   "source": [
    "model = gensim.models.Word2Vec.load(\"../data/enwiki-20170820-pages-articles-word2vec.model\")"
   ]
  },
  {
   "cell_type": "code",
   "execution_count": 3,
   "metadata": {},
   "outputs": [
    {
     "name": "stderr",
     "output_type": "stream",
     "text": [
      "2017-09-01 00:41:35,838 : INFO : precomputing L2-norms of word weight vectors\n"
     ]
    },
    {
     "data": {
      "text/plain": [
       "[(u'princess', 0.6666836738586426),\n",
       " (u'king', 0.6225330829620361),\n",
       " (u'empress', 0.6016234159469604),\n",
       " (u'monarch', 0.5184575319290161),\n",
       " (u'duchess', 0.5029677152633667),\n",
       " (u'maconchy', 0.5025211572647095),\n",
       " (u'pxqueen', 0.5005020499229431),\n",
       " (u'pedersdotter', 0.49542921781539917),\n",
       " (u'goudge', 0.4939497113227844),\n",
       " (u'skelbaek', 0.48609626293182373)]"
      ]
     },
     "execution_count": 3,
     "metadata": {},
     "output_type": "execute_result"
    }
   ],
   "source": [
    "model.most_similar(\"queen\")"
   ]
  },
  {
   "cell_type": "code",
   "execution_count": 4,
   "metadata": {},
   "outputs": [
    {
     "data": {
      "text/plain": [
       "[(u'taiwan', 0.727205753326416),\n",
       " (u'korea', 0.6772286891937256),\n",
       " (u'japan', 0.6742712259292603),\n",
       " (u'india', 0.662714958190918),\n",
       " (u'russia', 0.6418589353561401),\n",
       " (u'chinese', 0.6384171843528748),\n",
       " (u'beijing', 0.6204148530960083),\n",
       " (u'iran', 0.6091349124908447),\n",
       " (u'indonesia', 0.6068356037139893),\n",
       " (u'vietnam', 0.6065987348556519)]"
      ]
     },
     "execution_count": 4,
     "metadata": {},
     "output_type": "execute_result"
    }
   ],
   "source": [
    "model.most_similar(\"china\")"
   ]
  },
  {
   "cell_type": "code",
   "execution_count": 5,
   "metadata": {},
   "outputs": [
    {
     "data": {
      "text/plain": [
       "0.6772286704576671"
      ]
     },
     "execution_count": 5,
     "metadata": {},
     "output_type": "execute_result"
    }
   ],
   "source": [
    "model.similarity(\"china\", \"korea\")"
   ]
  },
  {
   "cell_type": "code",
   "execution_count": 9,
   "metadata": {},
   "outputs": [
    {
     "data": {
      "text/plain": [
       "'sandwich'"
      ]
     },
     "execution_count": 9,
     "metadata": {},
     "output_type": "execute_result"
    }
   ],
   "source": [
    "model.doesnt_match(\"china korea japan sandwich\".split())"
   ]
  },
  {
   "cell_type": "code",
   "execution_count": 38,
   "metadata": {},
   "outputs": [
    {
     "data": {
      "text/plain": [
       "[(u'queen', 0.6303792595863342),\n",
       " (u'monarch', 0.5618243217468262),\n",
       " (u'princess', 0.5485672354698181),\n",
       " (u'empress', 0.5187230110168457),\n",
       " (u'prince', 0.5160170197486877)]"
      ]
     },
     "execution_count": 38,
     "metadata": {},
     "output_type": "execute_result"
    }
   ],
   "source": [
    "model.most_similar(positive=['woman', 'king'], negative=['man'], topn=5)"
   ]
  },
  {
   "cell_type": "code",
   "execution_count": 39,
   "metadata": {},
   "outputs": [
    {
     "data": {
      "text/plain": [
       "[(u'mussolini', 0.68947434425354),\n",
       " (u'goebbels', 0.6850257515907288),\n",
       " (u'nazi', 0.6691296100616455),\n",
       " (u'nazis', 0.6667870879173279),\n",
       " (u'himmler', 0.6558368802070618)]"
      ]
     },
     "execution_count": 39,
     "metadata": {},
     "output_type": "execute_result"
    }
   ],
   "source": [
    "model.most_similar(positive=['hitler', 'stalin'], topn=5)"
   ]
  },
  {
   "cell_type": "code",
   "execution_count": 37,
   "metadata": {},
   "outputs": [
    {
     "data": {
      "text/plain": [
       "[(u'poland', 0.7429736852645874),\n",
       " (u'france', 0.7044112682342529),\n",
       " (u'ukraine', 0.6934065818786621),\n",
       " (u'italy', 0.6921175718307495),\n",
       " (u'europe', 0.6817227005958557)]"
      ]
     },
     "execution_count": 37,
     "metadata": {},
     "output_type": "execute_result"
    }
   ],
   "source": [
    "model.most_similar(positive=['germany', 'russia'], topn=5)"
   ]
  },
  {
   "cell_type": "code",
   "execution_count": 40,
   "metadata": {},
   "outputs": [
    {
     "data": {
      "text/plain": [
       "[(u'radio', 0.5005716681480408),\n",
       " (u'pbs', 0.49462711811065674),\n",
       " (u'hbo', 0.48360422253608704),\n",
       " (u'ntv', 0.4745483100414276),\n",
       " (u'newsradio', 0.4737170338630676)]"
      ]
     },
     "execution_count": 40,
     "metadata": {},
     "output_type": "execute_result"
    }
   ],
   "source": [
    "model.most_similar(positive=['tv', 'television'], negative=['screen'], topn=5)"
   ]
  },
  {
   "cell_type": "code",
   "execution_count": 41,
   "metadata": {},
   "outputs": [
    {
     "data": {
      "text/plain": [
       "[(u'pastel', 0.4403928518295288),\n",
       " (u'watercolor', 0.4394102096557617),\n",
       " (u'art', 0.43102163076400757),\n",
       " (u'painting', 0.42625945806503296),\n",
       " (u'gouache', 0.4099835753440857)]"
      ]
     },
     "execution_count": 41,
     "metadata": {},
     "output_type": "execute_result"
    }
   ],
   "source": [
    "model.most_similar(positive=['music', 'canvas'], negative=['instrument'], topn=5)"
   ]
  },
  {
   "cell_type": "code",
   "execution_count": null,
   "metadata": {
    "collapsed": true
   },
   "outputs": [],
   "source": []
  }
 ],
 "metadata": {
  "kernelspec": {
   "display_name": "Python 2",
   "language": "python",
   "name": "python2"
  },
  "language_info": {
   "codemirror_mode": {
    "name": "ipython",
    "version": 2
   },
   "file_extension": ".py",
   "mimetype": "text/x-python",
   "name": "python",
   "nbconvert_exporter": "python",
   "pygments_lexer": "ipython2",
   "version": "2.7.12"
  }
 },
 "nbformat": 4,
 "nbformat_minor": 2
}
